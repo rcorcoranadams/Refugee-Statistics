{
  "nbformat": 4,
  "nbformat_minor": 0,
  "metadata": {
    "colab": {
      "name": "Python Lab 5",
      "provenance": [],
      "collapsed_sections": [],
      "authorship_tag": "ABX9TyPnjtyc7NWecw0mFhr0AolO",
      "include_colab_link": true
    },
    "kernelspec": {
      "name": "python3",
      "display_name": "Python 3"
    }
  },
  "cells": [
    {
      "cell_type": "markdown",
      "metadata": {
        "id": "view-in-github",
        "colab_type": "text"
      },
      "source": [
        "<a href=\"https://colab.research.google.com/github/IDCE-MSGIS/lab-5-refugee-stats-using-dictionaries-rcorcoranadams/blob/master/Python_Lab_5.ipynb\" target=\"_parent\"><img src=\"https://colab.research.google.com/assets/colab-badge.svg\" alt=\"Open In Colab\"/></a>"
      ]
    },
    {
      "cell_type": "code",
      "metadata": {
        "id": "glzH7Q0qDQQr",
        "outputId": "b1b34409-3eb5-42f0-83a5-cc3ca682f49f",
        "colab": {
          "base_uri": "https://localhost:8080/",
          "height": 35
        }
      },
      "source": [
        "'''\n",
        "Rachel Corcoran-Adams\n",
        "Date Created: September 27, 2020\n",
        "Version of Python: 8.5\n",
        "Inputs include a dictionary of total refugees in each country that I chose for the year 2006. \n",
        "'''\n",
        "\n",
        "# this line creates my dictionary of total number of refugees in 5 countries in the year 2006\n",
        "my_countries = {'Bangladesh':26154, 'Iran':12715, 'Zambia':64690, 'Yemen':9298,'Malawi':4950}\n",
        "print(my_countries)"
      ],
      "execution_count": 2,
      "outputs": [
        {
          "output_type": "stream",
          "text": [
            "{'Bangladesh': 26154, 'Iran': 12715, 'Zambia': 64690, 'Yemen': 9298, 'Malawi': 4950}\n"
          ],
          "name": "stdout"
        }
      ]
    },
    {
      "cell_type": "code",
      "metadata": {
        "id": "maRxdeyKGgVT",
        "outputId": "6ea51154-7109-4e52-a486-97133bb02648",
        "colab": {
          "base_uri": "https://localhost:8080/",
          "height": 35
        }
      },
      "source": [
        "# This line defines which items of the dictionaries are values and what they are\n",
        "my_countries.values()"
      ],
      "execution_count": null,
      "outputs": [
        {
          "output_type": "execute_result",
          "data": {
            "text/plain": [
              "dict_values([26154, 12715, 64690, 9298, 4950])"
            ]
          },
          "metadata": {
            "tags": []
          },
          "execution_count": 4
        }
      ]
    },
    {
      "cell_type": "code",
      "metadata": {
        "id": "zuGVWwROGplC",
        "outputId": "46467bbf-2285-4dbc-ff90-22a8a1f6065b",
        "colab": {
          "base_uri": "https://localhost:8080/",
          "height": 35
        }
      },
      "source": [
        "# This line defines which items in the dictionary are keys\n",
        "my_countries.keys()"
      ],
      "execution_count": null,
      "outputs": [
        {
          "output_type": "execute_result",
          "data": {
            "text/plain": [
              "dict_keys(['Bangladesh', 'Iran', 'Zambia', 'Yemen', 'Malawi'])"
            ]
          },
          "metadata": {
            "tags": []
          },
          "execution_count": 5
        }
      ]
    },
    {
      "cell_type": "code",
      "metadata": {
        "id": "r7-6ArZnGwiW",
        "outputId": "293553f9-7d3b-4328-87b5-e6566ce741f3",
        "colab": {
          "base_uri": "https://localhost:8080/",
          "height": 35
        }
      },
      "source": [
        "# This line defines the items in total \n",
        "my_countries.items()"
      ],
      "execution_count": null,
      "outputs": [
        {
          "output_type": "execute_result",
          "data": {
            "text/plain": [
              "dict_items([('Bangladesh', 26154), ('Iran', 12715), ('Zambia', 64690), ('Yemen', 9298), ('Malawi', 4950)])"
            ]
          },
          "metadata": {
            "tags": []
          },
          "execution_count": 6
        }
      ]
    },
    {
      "cell_type": "code",
      "metadata": {
        "id": "KLSqM3GjHdAq",
        "outputId": "a108aa02-0d06-48b2-a910-e606ddb01bc8",
        "colab": {
          "base_uri": "https://localhost:8080/",
          "height": 104
        }
      },
      "source": [
        "# These next lines define a function to input the keys in the dictionary and print them\n",
        "def printCountry(dicInput):\n",
        "  for(x) in dicInput.keys():\n",
        "    print(x)\n",
        "printCountry(my_countries)"
      ],
      "execution_count": 4,
      "outputs": [
        {
          "output_type": "stream",
          "text": [
            "Bangladesh\n",
            "Iran\n",
            "Zambia\n",
            "Yemen\n",
            "Malawi\n"
          ],
          "name": "stdout"
        }
      ]
    },
    {
      "cell_type": "code",
      "metadata": {
        "id": "tfVOS8FZEGDY",
        "outputId": "c878b9a3-2361-4a9a-c6c8-d864a840e4f5",
        "colab": {
          "base_uri": "https://localhost:8080/",
          "height": 104
        }
      },
      "source": [
        "# These next lines define a function that inputs the values in the dictionary and prints them\n",
        "def printRefugees(dicInput):\n",
        "  for(y) in dicInput.values():\n",
        "    print(y)\n",
        "printRefugees(my_countries)"
      ],
      "execution_count": 8,
      "outputs": [
        {
          "output_type": "stream",
          "text": [
            "26154\n",
            "12715\n",
            "64690\n",
            "9298\n",
            "4950\n"
          ],
          "name": "stdout"
        }
      ]
    },
    {
      "cell_type": "code",
      "metadata": {
        "id": "ClLdWHnSGJEK",
        "outputId": "855f3111-e9d1-4ade-bb3a-09081cddb76d",
        "colab": {
          "base_uri": "https://localhost:8080/",
          "height": 104
        }
      },
      "source": [
        "# These next few lines allows the values to be displayed outside of the list and itemizes them correctly based on x and y locations\n",
        "def printDictionary(dicInput): \n",
        "  for(x,y) in dicInput.items():  \n",
        "    # This line prints the items with a script in the middle so that it is read as a statement\n",
        "    print(x, \"has\" ,y, \"refugees.\") \n",
        "printDictionary(my_countries)"
      ],
      "execution_count": 11,
      "outputs": [
        {
          "output_type": "stream",
          "text": [
            "Bangladesh has 26154 refugees.\n",
            "Iran has 12715 refugees.\n",
            "Zambia has 64690 refugees.\n",
            "Yemen has 9298 refugees.\n",
            "Malawi has 4950 refugees.\n"
          ],
          "name": "stdout"
        }
      ]
    }
  ]
}